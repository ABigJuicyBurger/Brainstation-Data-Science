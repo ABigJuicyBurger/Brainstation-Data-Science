{
 "cells": [
  {
   "cell_type": "code",
   "execution_count": 3,
   "id": "e5666d49",
   "metadata": {},
   "outputs": [
    {
     "name": "stdout",
     "output_type": "stream",
     "text": [
      "Python interpreter path: c:\\Users\\bader\\Desktop\\Data Science - Brainstation\\.venv\\Scripts\\python.exe\n",
      "NumPy version: 2.2.5\n",
      "Pandas version: 2.2.3\n"
     ]
    }
   ],
   "source": [
    "import sys\n",
    "print(f\"Python interpreter path: {sys.executable}\")\n",
    "import numpy as np\n",
    "print(f\"NumPy version: {np.__version__}\")\n",
    "import pandas as pd\n",
    "print(f\"Pandas version: {pd.__version__}\")"
   ]
  },
  {
   "cell_type": "code",
   "execution_count": null,
   "id": "664865b5",
   "metadata": {},
   "outputs": [],
   "source": [
    "#.venv is my py environment, or a dedicated space for this \n",
    "# project's python packages\n",
    "# this is an isolated environment, so youll need to install\n",
    "# your specific modules (like a node modules)"
   ]
  },
  {
   "cell_type": "code",
   "execution_count": null,
   "id": "2de875dc",
   "metadata": {},
   "outputs": [],
   "source": [
    "# start with .venv/Scripts/activate so your commands\n",
    "# point to this folder/environment\n",
    "# whatever you need to install use py -m; pip can be used\n",
    "# py is the windows python launcher, -m means run as script"
   ]
  }
 ],
 "metadata": {
  "kernelspec": {
   "display_name": ".venv (3.13.2)",
   "language": "python",
   "name": "python3"
  },
  "language_info": {
   "codemirror_mode": {
    "name": "ipython",
    "version": 3
   },
   "file_extension": ".py",
   "mimetype": "text/x-python",
   "name": "python",
   "nbconvert_exporter": "python",
   "pygments_lexer": "ipython3",
   "version": "3.13.2"
  }
 },
 "nbformat": 4,
 "nbformat_minor": 5
}
